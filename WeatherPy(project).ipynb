{
 "cells": [
  {
   "cell_type": "code",
   "execution_count": 1,
   "metadata": {},
   "outputs": [],
   "source": [
    "# Import the dependencies.\n",
    "from citipy import citipy\n",
    "import numpy as np\n",
    "import pandas as pd\n",
    "import matplotlib.pyplot as plt\n",
    "import time\n",
    "import random\n",
    "import timeit"
   ]
  },
  {
   "cell_type": "code",
   "execution_count": 2,
   "metadata": {},
   "outputs": [
    {
     "data": {
      "text/plain": [
       "<zip at 0x7f889b814820>"
      ]
     },
     "execution_count": 2,
     "metadata": {},
     "output_type": "execute_result"
    }
   ],
   "source": [
    "# Create a set of random latitude and longitude combinations.\n",
    "lats = np.random.uniform(low=-90.000, high=90.000, size=1500)\n",
    "lngs = np.random.uniform(low=-180.000, high=180.000, size=1500)\n",
    "lat_lngs = zip(lats, lngs)\n",
    "lat_lngs"
   ]
  },
  {
   "cell_type": "code",
   "execution_count": 3,
   "metadata": {},
   "outputs": [],
   "source": [
    "# Create a practice set of random latitude and longitude combinations.\n",
    "x = [25.12903645, 25.92017388, 26.62509167, -59.98969384, 37.30571269]\n",
    "y = [-67.59741259, 11.09532135, 74.84233102, -76.89176677, -61.13376282]\n",
    "coordinates = zip(x, y)"
   ]
  },
  {
   "cell_type": "code",
   "execution_count": 4,
   "metadata": {},
   "outputs": [
    {
     "name": "stdout",
     "output_type": "stream",
     "text": [
      "25.12903645 -67.59741259\n",
      "25.92017388 11.09532135\n",
      "26.62509167 74.84233102\n",
      "-59.98969384 -76.89176677\n",
      "37.30571269 -61.13376282\n"
     ]
    }
   ],
   "source": [
    "# Use the tuple() function to display the latitude and longitude combinations.\n",
    "for coordinate in coordinates:\n",
    "    print(coordinate[0], coordinate[1])"
   ]
  },
  {
   "cell_type": "code",
   "execution_count": 5,
   "metadata": {},
   "outputs": [],
   "source": [
    "# Add the latitudes and longitudes to a list.\n",
    "coordinates = list(lat_lngs)"
   ]
  },
  {
   "cell_type": "code",
   "execution_count": 6,
   "metadata": {},
   "outputs": [
    {
     "name": "stdout",
     "output_type": "stream",
     "text": [
      "aklavik has a country code of ca\n",
      "hakvik has a country code of no\n",
      "ossora has a country code of ru\n",
      "butaritari has a country code of ki\n",
      "rovaniemi has a country code of fi\n",
      "san rafael has a country code of ar\n",
      "puerto ayora has a country code of ec\n",
      "half moon bay has a country code of us\n",
      "ushuaia has a country code of ar\n",
      "mataura has a country code of pf\n",
      "port elizabeth has a country code of za\n",
      "grand-lahou has a country code of ci\n",
      "padang has a country code of id\n",
      "taitung has a country code of tw\n",
      "liminangcong has a country code of ph\n",
      "airai has a country code of pw\n",
      "barrow has a country code of us\n",
      "ribeira grande has a country code of pt\n",
      "faanui has a country code of pf\n",
      "hermanus has a country code of za\n",
      "hohhot has a country code of cn\n",
      "bargal has a country code of so\n",
      "bluff has a country code of nz\n",
      "sitio novo do tocantins has a country code of br\n",
      "taolanaro has a country code of mg\n",
      "yerbogachen has a country code of ru\n",
      "tasiilaq has a country code of gl\n",
      "tenno has a country code of jp\n",
      "kapaa has a country code of us\n",
      "lompoc has a country code of us\n",
      "rikitea has a country code of pf\n",
      "port alfred has a country code of za\n",
      "qui nhon has a country code of vn\n",
      "tuktoyaktuk has a country code of ca\n",
      "kuminskiy has a country code of ru\n",
      "jamestown has a country code of sh\n",
      "punta arenas has a country code of cl\n",
      "chuy has a country code of uy\n",
      "bierun has a country code of pl\n",
      "hasaki has a country code of jp\n",
      "aflu has a country code of dz\n",
      "palmerston north has a country code of nz\n",
      "bredasdorp has a country code of za\n",
      "castro has a country code of cl\n",
      "vitim has a country code of ru\n",
      "kaitangata has a country code of nz\n",
      "iqaluit has a country code of ca\n",
      "nabire has a country code of id\n",
      "fortuna has a country code of us\n",
      "illoqqortoormiut has a country code of gl\n",
      "hobart has a country code of au\n",
      "belyy yar has a country code of ru\n",
      "jenks has a country code of us\n",
      "upata has a country code of ve\n",
      "nome has a country code of us\n",
      "tsihombe has a country code of mg\n",
      "halifax has a country code of ca\n",
      "kuznechnoye has a country code of ru\n",
      "petropavlovsk-kamchatskiy has a country code of ru\n",
      "east london has a country code of za\n",
      "upernavik has a country code of gl\n",
      "pemangkat has a country code of id\n",
      "busselton has a country code of au\n",
      "mehamn has a country code of no\n",
      "albany has a country code of au\n",
      "barentsburg has a country code of sj\n",
      "saint anthony has a country code of ca\n",
      "sayanskiy has a country code of ru\n",
      "souillac has a country code of mu\n",
      "tonj has a country code of sd\n",
      "kahului has a country code of us\n",
      "cape town has a country code of za\n",
      "paamiut has a country code of gl\n",
      "meulaboh has a country code of id\n",
      "paracuru has a country code of br\n",
      "cicero dantas has a country code of br\n",
      "severo-kurilsk has a country code of ru\n",
      "ayan has a country code of ru\n",
      "tiksi has a country code of ru\n",
      "laguna has a country code of br\n",
      "otradnoye has a country code of ru\n",
      "cherskiy has a country code of ru\n",
      "xapuri has a country code of br\n",
      "norman wells has a country code of ca\n",
      "coihaique has a country code of cl\n",
      "vaini has a country code of to\n",
      "hithadhoo has a country code of mv\n",
      "nara has a country code of ml\n",
      "lahat has a country code of id\n",
      "georgetown has a country code of sh\n",
      "takoradi has a country code of gh\n",
      "taltal has a country code of cl\n",
      "attawapiskat has a country code of ca\n",
      "praia da vitoria has a country code of pt\n",
      "avarua has a country code of ck\n",
      "kavaratti has a country code of in\n",
      "dunedin has a country code of nz\n",
      "port moresby has a country code of pg\n",
      "provideniya has a country code of ru\n",
      "poum has a country code of nc\n",
      "bardiyah has a country code of ly\n",
      "sao filipe has a country code of cv\n",
      "carnarvon has a country code of au\n",
      "thompson has a country code of ca\n",
      "shingu has a country code of jp\n",
      "wajir has a country code of ke\n",
      "hirara has a country code of jp\n",
      "synya has a country code of ru\n",
      "arraial do cabo has a country code of br\n",
      "esperance has a country code of au\n",
      "bengkulu has a country code of id\n",
      "dikson has a country code of ru\n",
      "saint-philippe has a country code of re\n",
      "moosomin has a country code of ca\n",
      "ivnya has a country code of ru\n",
      "qaanaaq has a country code of gl\n",
      "puri has a country code of in\n",
      "port augusta has a country code of au\n",
      "jackson has a country code of us\n",
      "chara has a country code of ru\n",
      "lebu has a country code of cl\n",
      "darnah has a country code of ly\n",
      "yellowknife has a country code of ca\n",
      "mys shmidta has a country code of ru\n",
      "bulgan has a country code of mn\n",
      "grand river south east has a country code of mu\n",
      "tuatapere has a country code of nz\n",
      "samarai has a country code of pg\n",
      "isangel has a country code of vu\n",
      "leningradskiy has a country code of ru\n",
      "bathsheba has a country code of bb\n",
      "chicama has a country code of pe\n",
      "komsomolskiy has a country code of ru\n",
      "sechelt has a country code of ca\n",
      "atuona has a country code of pf\n",
      "kodiak has a country code of us\n",
      "savinskiy has a country code of ru\n",
      "valer has a country code of no\n",
      "tessalit has a country code of ml\n",
      "moussoro has a country code of td\n",
      "flinders has a country code of au\n",
      "sao gabriel da cachoeira has a country code of br\n",
      "oparino has a country code of ru\n",
      "hilo has a country code of us\n",
      "mahebourg has a country code of mu\n",
      "bethel has a country code of us\n",
      "lumeje has a country code of ao\n",
      "belushya guba has a country code of ru\n",
      "moorhead has a country code of us\n",
      "sikandra has a country code of in\n",
      "bilibino has a country code of ru\n",
      "pangnirtung has a country code of ca\n",
      "luderitz has a country code of na\n",
      "kushiro has a country code of jp\n",
      "skagastrond has a country code of is\n",
      "hvide sande has a country code of dk\n",
      "gardenstown has a country code of gb\n",
      "clyde river has a country code of ca\n",
      "sentyabrskiy has a country code of ru\n",
      "kagadi has a country code of ug\n",
      "pauini has a country code of br\n",
      "zhigansk has a country code of ru\n",
      "constitucion has a country code of mx\n",
      "whitianga has a country code of nz\n",
      "guerrero negro has a country code of mx\n",
      "raha has a country code of in\n",
      "cidreira has a country code of br\n",
      "jilib has a country code of so\n",
      "rovenki has a country code of ru\n",
      "ponnani has a country code of in\n",
      "vao has a country code of nc\n",
      "basco has a country code of ph\n",
      "upleta has a country code of in\n",
      "vestmannaeyjar has a country code of is\n",
      "srednekolymsk has a country code of ru\n",
      "yar-sale has a country code of ru\n",
      "zhuhai has a country code of cn\n",
      "kamiiso has a country code of jp\n",
      "san juan has a country code of us\n",
      "mayo has a country code of ca\n",
      "eyl has a country code of so\n",
      "mount isa has a country code of au\n",
      "samusu has a country code of ws\n",
      "maksatikha has a country code of ru\n",
      "new norfolk has a country code of au\n",
      "orizaba has a country code of mx\n",
      "doctor pedro p. pena has a country code of py\n",
      "san cristobal has a country code of ec\n",
      "lamar has a country code of us\n",
      "sitka has a country code of us\n",
      "santa vitoria do palmar has a country code of br\n",
      "ginir has a country code of et\n",
      "whitley bay has a country code of gb\n",
      "mar del plata has a country code of ar\n",
      "victoria has a country code of sc\n",
      "alto araguaia has a country code of br\n",
      "nikolskoye has a country code of ru\n",
      "tadine has a country code of nc\n",
      "chinhoyi has a country code of zw\n",
      "kuhestan has a country code of af\n",
      "acapulco has a country code of mx\n",
      "noyabrsk has a country code of ru\n",
      "bay roberts has a country code of ca\n",
      "kirakira has a country code of sb\n",
      "rio cuarto has a country code of ar\n",
      "cortez has a country code of us\n",
      "tumannyy has a country code of ru\n",
      "santa cruz has a country code of cr\n",
      "buala has a country code of sb\n",
      "sobolevo has a country code of ru\n",
      "los llanos de aridane has a country code of es\n",
      "turukhansk has a country code of ru\n",
      "mecca has a country code of sa\n",
      "codrington has a country code of ag\n",
      "eureka has a country code of us\n",
      "bekasi has a country code of id\n",
      "tura has a country code of ru\n",
      "talnakh has a country code of ru\n",
      "turayf has a country code of sa\n",
      "lagoa has a country code of pt\n",
      "lingao has a country code of cn\n",
      "leshukonskoye has a country code of ru\n",
      "sao lourenco da serra has a country code of br\n",
      "xam nua has a country code of la\n",
      "oswego has a country code of us\n",
      "ponta do sol has a country code of cv\n",
      "port macquarie has a country code of au\n",
      "atherton has a country code of au\n",
      "verkhoyansk has a country code of ru\n",
      "hamilton has a country code of bm\n",
      "buraydah has a country code of sa\n",
      "kimbe has a country code of pg\n",
      "atambua has a country code of id\n",
      "chapais has a country code of ca\n",
      "vitry-le-francois has a country code of fr\n",
      "iquique has a country code of cl\n",
      "ishigaki has a country code of jp\n",
      "swift current has a country code of ca\n",
      "porbandar has a country code of in\n",
      "tazovskiy has a country code of ru\n",
      "macia has a country code of mz\n",
      "tiznit has a country code of ma\n",
      "carballo has a country code of es\n",
      "mbengwi has a country code of cm\n",
      "manicore has a country code of br\n",
      "garissa has a country code of ke\n",
      "warmbad has a country code of na\n",
      "longyearbyen has a country code of sj\n",
      "ilulissat has a country code of gl\n",
      "khonuu has a country code of ru\n",
      "nanortalik has a country code of gl\n",
      "halalo has a country code of wf\n",
      "san patricio has a country code of mx\n",
      "saskylakh has a country code of ru\n",
      "lavrentiya has a country code of ru\n",
      "alekseyevsk has a country code of ru\n",
      "tezu has a country code of in\n",
      "valparaiso has a country code of cl\n",
      "kings mountain has a country code of us\n",
      "khilok has a country code of ru\n",
      "itupiranga has a country code of br\n",
      "vila franca do campo has a country code of pt\n",
      "puerto asis has a country code of co\n",
      "burladingen has a country code of de\n",
      "chokurdakh has a country code of ru\n",
      "saint george has a country code of bm\n",
      "deputatskiy has a country code of ru\n",
      "cururupu has a country code of br\n",
      "geraldton has a country code of au\n"
     ]
    },
    {
     "name": "stdout",
     "output_type": "stream",
     "text": [
      "moron has a country code of mn\n",
      "saint-augustin has a country code of ca\n",
      "baykit has a country code of ru\n",
      "sayat has a country code of tm\n",
      "maarianhamina has a country code of fi\n",
      "fort collins has a country code of us\n",
      "khatanga has a country code of ru\n",
      "namibe has a country code of ao\n",
      "alofi has a country code of nu\n",
      "bilma has a country code of ne\n",
      "partyzany has a country code of ua\n",
      "umzimvubu has a country code of za\n",
      "port hedland has a country code of au\n",
      "griffith has a country code of au\n",
      "santander has a country code of es\n",
      "panaba has a country code of mx\n",
      "okhotsk has a country code of ru\n",
      "bereznik has a country code of ru\n",
      "villa carlos paz has a country code of ar\n",
      "korla has a country code of cn\n",
      "sao joao da ponte has a country code of br\n",
      "general jose eduvigis diaz has a country code of py\n",
      "les cayes has a country code of ht\n",
      "kavieng has a country code of pg\n",
      "grand gaube has a country code of mu\n",
      "broome has a country code of au\n",
      "lasa has a country code of cn\n",
      "horasan has a country code of tr\n",
      "manggar has a country code of id\n",
      "ostrovnoy has a country code of ru\n",
      "azul has a country code of ar\n",
      "shakawe has a country code of bw\n",
      "beringovskiy has a country code of ru\n",
      "tambura has a country code of sd\n",
      "churapcha has a country code of ru\n",
      "marsh harbour has a country code of bs\n",
      "seoul has a country code of kr\n",
      "zaysan has a country code of kz\n",
      "raga has a country code of sd\n",
      "atar has a country code of mr\n",
      "bahia blanca has a country code of ar\n",
      "arman has a country code of ru\n",
      "taman has a country code of id\n",
      "yumen has a country code of cn\n",
      "inirida has a country code of co\n",
      "mareeba has a country code of au\n",
      "umm lajj has a country code of sa\n",
      "general roca has a country code of ar\n",
      "hobyo has a country code of so\n",
      "san antonio has a country code of hn\n",
      "chagda has a country code of ru\n",
      "jalu has a country code of ly\n",
      "fukue has a country code of jp\n",
      "kaseda has a country code of jp\n",
      "nyagan has a country code of ru\n",
      "la ronge has a country code of ca\n",
      "gizo has a country code of sb\n",
      "santa maria has a country code of cv\n",
      "santo antonio do ica has a country code of br\n",
      "klaksvik has a country code of fo\n",
      "vilyuysk has a country code of ru\n",
      "mstera has a country code of ru\n",
      "winnemucca has a country code of us\n",
      "meyungs has a country code of pw\n",
      "hun has a country code of ly\n",
      "bati has a country code of et\n",
      "olafsvik has a country code of is\n",
      "vysokogornyy has a country code of ru\n",
      "fairbanks has a country code of us\n",
      "niquelandia has a country code of br\n",
      "pevek has a country code of ru\n",
      "namatanai has a country code of pg\n",
      "port blair has a country code of in\n",
      "yokkaichi has a country code of jp\n",
      "severo-yeniseyskiy has a country code of ru\n",
      "yokadouma has a country code of cm\n",
      "auki has a country code of sb\n",
      "nantucket has a country code of us\n",
      "karakendzha has a country code of tj\n",
      "srivardhan has a country code of in\n",
      "longyan has a country code of cn\n",
      "sorland has a country code of no\n",
      "taoudenni has a country code of ml\n",
      "kikwit has a country code of cd\n",
      "narsaq has a country code of gl\n",
      "itarema has a country code of br\n",
      "bokspits has a country code of bw\n",
      "bonito has a country code of br\n",
      "sinnamary has a country code of gf\n",
      "kenai has a country code of us\n",
      "sur has a country code of om\n",
      "denizli has a country code of tr\n",
      "asau has a country code of tv\n",
      "kadoma has a country code of zw\n",
      "goderich has a country code of sl\n",
      "ust-omchug has a country code of ru\n",
      "sao joao da barra has a country code of br\n",
      "yabrud has a country code of sy\n",
      "galiwinku has a country code of au\n",
      "yuancheng has a country code of cn\n",
      "nizhneyansk has a country code of ru\n",
      "papayal has a country code of pe\n",
      "watsa has a country code of cd\n",
      "arinos has a country code of br\n",
      "lazurne has a country code of ua\n",
      "grand forks has a country code of us\n",
      "yamethin has a country code of mm\n",
      "oranjemund has a country code of na\n",
      "adrar has a country code of dz\n",
      "yirol has a country code of sd\n",
      "husavik has a country code of is\n",
      "danshui has a country code of cn\n",
      "svetlogorsk has a country code of ru\n",
      "vila velha has a country code of br\n",
      "moose factory has a country code of ca\n",
      "hwange has a country code of zw\n",
      "wilmington has a country code of us\n",
      "ipixuna has a country code of br\n",
      "pakxan has a country code of la\n",
      "coquimbo has a country code of cl\n",
      "jiangyou has a country code of cn\n",
      "nyurba has a country code of ru\n",
      "majene has a country code of id\n",
      "mega has a country code of et\n",
      "san francisco has a country code of ar\n",
      "springdale has a country code of ca\n",
      "varzea da palma has a country code of br\n",
      "progreso has a country code of mx\n",
      "bima has a country code of id\n",
      "ulaanbaatar has a country code of mn\n",
      "amderma has a country code of ru\n",
      "torbay has a country code of ca\n",
      "sataua has a country code of ws\n",
      "saint-joseph has a country code of re\n",
      "vanavara has a country code of ru\n",
      "jumla has a country code of np\n",
      "nang rong has a country code of th\n",
      "wewak has a country code of pg\n",
      "saleaula has a country code of ws\n",
      "povorino has a country code of ru\n",
      "raton has a country code of us\n",
      "hoi an has a country code of vn\n",
      "lorengau has a country code of pg\n",
      "alyangula has a country code of au\n",
      "aden has a country code of ye\n",
      "taicheng has a country code of cn\n",
      "koroni has a country code of gr\n",
      "trelew has a country code of ar\n",
      "toliary has a country code of mg\n",
      "warqla has a country code of dz\n",
      "ailigandi has a country code of pa\n",
      "aquiraz has a country code of br\n",
      "verkhnetulomskiy has a country code of ru\n",
      "bury saint edmunds has a country code of gb\n",
      "bowen has a country code of au\n",
      "makakilo city has a country code of us\n",
      "aksu has a country code of cn\n",
      "teahupoo has a country code of pf\n",
      "neuquen has a country code of ar\n",
      "salalah has a country code of om\n",
      "waddan has a country code of ly\n",
      "bayshore gardens has a country code of us\n",
      "avera has a country code of pf\n",
      "burns lake has a country code of ca\n",
      "clarksburg has a country code of us\n",
      "plettenberg bay has a country code of za\n",
      "lazarev has a country code of ru\n",
      "pangkalanbuun has a country code of id\n",
      "akcakoca has a country code of tr\n",
      "wadern has a country code of de\n",
      "aksarka has a country code of ru\n",
      "fort nelson has a country code of ca\n",
      "stulovo has a country code of ru\n",
      "krivosheino has a country code of ru\n",
      "strzelce krajenskie has a country code of pl\n",
      "tual has a country code of id\n",
      "inuvik has a country code of ca\n",
      "aketi has a country code of cd\n",
      "kedrovyy has a country code of ru\n",
      "longhua has a country code of cn\n",
      "greenville has a country code of us\n",
      "mount pleasant has a country code of us\n",
      "salinopolis has a country code of br\n",
      "ca mau has a country code of vn\n",
      "port lincoln has a country code of au\n",
      "metro has a country code of id\n",
      "cabo san lucas has a country code of mx\n",
      "erzin has a country code of ru\n",
      "forio has a country code of it\n",
      "suntar has a country code of ru\n",
      "henties bay has a country code of na\n",
      "pringsewu has a country code of id\n",
      "touros has a country code of br\n",
      "tahta has a country code of eg\n",
      "nagato has a country code of jp\n",
      "cabittaogan has a country code of ph\n",
      "monte alegre has a country code of br\n",
      "road town has a country code of vg\n",
      "dibulla has a country code of co\n",
      "chimbote has a country code of pe\n",
      "taganak has a country code of ph\n",
      "benton harbor has a country code of us\n",
      "kruisfontein has a country code of za\n",
      "chokwe has a country code of mz\n",
      "bur gabo has a country code of so\n",
      "barahona has a country code of do\n",
      "havre-saint-pierre has a country code of ca\n",
      "waipawa has a country code of nz\n",
      "san vicente has a country code of ph\n",
      "avila has a country code of ph\n",
      "mutoko has a country code of zw\n",
      "paka has a country code of my\n",
      "nanyang has a country code of cn\n",
      "westport has a country code of ie\n",
      "jensen beach has a country code of us\n",
      "naryan-mar has a country code of ru\n",
      "bagdarin has a country code of ru\n",
      "fort-shevchenko has a country code of kz\n",
      "vung tau has a country code of vn\n",
      "tecoanapa has a country code of mx\n",
      "monrovia has a country code of lr\n",
      "havelock has a country code of us\n",
      "port hardy has a country code of ca\n",
      "sioux lookout has a country code of ca\n",
      "djambala has a country code of cg\n",
      "balkhash has a country code of kz\n",
      "escanaba has a country code of us\n",
      "bayji has a country code of iq\n",
      "bandarbeyla has a country code of so\n",
      "rio verde de mato grosso has a country code of br\n",
      "cap malheureux has a country code of mu\n",
      "katha has a country code of mm\n",
      "saint-georges has a country code of gf\n",
      "mandalgovi has a country code of mn\n",
      "north bend has a country code of us\n",
      "bara has a country code of sd\n",
      "mungwi has a country code of zm\n",
      "dingle has a country code of ie\n",
      "gulmarg has a country code of in\n",
      "paris has a country code of us\n",
      "acarau has a country code of br\n",
      "caronport has a country code of ca\n",
      "porto velho has a country code of br\n",
      "gadag has a country code of in\n",
      "egvekinot has a country code of ru\n",
      "nishihara has a country code of jp\n",
      "anadyr has a country code of ru\n",
      "omsk has a country code of ru\n",
      "bubaque has a country code of gw\n",
      "conde has a country code of br\n",
      "pinawa has a country code of ca\n",
      "ahipara has a country code of nz\n",
      "wembley has a country code of ca\n",
      "daru has a country code of pg\n",
      "vaitupu has a country code of wf\n",
      "brzeg dolny has a country code of pl\n",
      "merauke has a country code of id\n",
      "coahuayana has a country code of mx\n",
      "adamantina has a country code of br\n",
      "tilichiki has a country code of ru\n",
      "sidi ali has a country code of dz\n",
      "russell has a country code of nz\n",
      "lisakovsk has a country code of kz\n",
      "namestovo has a country code of sk\n",
      "huarmey has a country code of pe\n",
      "misratah has a country code of ly\n",
      "morecambe has a country code of gb\n",
      "kashi has a country code of cn\n",
      "benghazi has a country code of ly\n",
      "athabasca has a country code of ca\n"
     ]
    },
    {
     "name": "stdout",
     "output_type": "stream",
     "text": [
      "alpine has a country code of us\n",
      "pakhtakoron has a country code of tj\n",
      "tugulym has a country code of ru\n",
      "aldan has a country code of ru\n",
      "easley has a country code of us\n",
      "schiffdorf has a country code of de\n",
      "mukhen has a country code of ru\n",
      "biloela has a country code of au\n",
      "honiara has a country code of sb\n",
      "port hawkesbury has a country code of ca\n",
      "cozumel has a country code of mx\n",
      "parainen has a country code of fi\n",
      "maniitsoq has a country code of gl\n",
      "mount gambier has a country code of au\n",
      "el carmen de bolivar has a country code of co\n",
      "malakal has a country code of sd\n",
      "pisco has a country code of pe\n",
      "kano has a country code of ng\n",
      "helong has a country code of cn\n",
      "itoman has a country code of jp\n",
      "spencer has a country code of us\n",
      "sakakah has a country code of sa\n",
      "luganville has a country code of vu\n",
      "ancud has a country code of cl\n",
      "san buenaventura has a country code of mx\n",
      "tonantins has a country code of br\n",
      "jiwani has a country code of pk\n",
      "abu samrah has a country code of qa\n",
      "sivas has a country code of tr\n",
      "naze has a country code of jp\n",
      "pedernales has a country code of do\n",
      "quatre cocos has a country code of mu\n",
      "porto novo has a country code of cv\n",
      "raudeberg has a country code of no\n",
      "port-gentil has a country code of ga\n",
      "necochea has a country code of ar\n",
      "caravelas has a country code of br\n",
      "cap-aux-meules has a country code of ca\n",
      "kovdor has a country code of ru\n",
      "saldanha has a country code of za\n",
      "lixourion has a country code of gr\n",
      "bambous virieux has a country code of mu\n",
      "teya has a country code of ru\n",
      "klyuchi has a country code of ru\n",
      "ambanja has a country code of mg\n",
      "faya has a country code of td\n",
      "muzhi has a country code of ru\n",
      "luanda has a country code of ao\n",
      "ketchikan has a country code of us\n",
      "koundara has a country code of gn\n",
      "celestun has a country code of mx\n",
      "mazagao has a country code of br\n",
      "alice springs has a country code of au\n",
      "rodas has a country code of cu\n",
      "hibbing has a country code of us\n",
      "hit has a country code of iq\n",
      "raduzhnyy has a country code of ru\n",
      "howard springs has a country code of au\n",
      "am timan has a country code of td\n",
      "lyngseidet has a country code of no\n",
      "rawson has a country code of ar\n",
      "presidencia roque saenz pena has a country code of ar\n",
      "marawi has a country code of sd\n",
      "george has a country code of za\n",
      "tecpan has a country code of mx\n",
      "whyalla has a country code of au\n",
      "ozgon has a country code of kg\n",
      "phonhong has a country code of la\n",
      "kasongo-lunda has a country code of cd\n",
      "nakhon nayok has a country code of th\n",
      "chivay has a country code of pe\n",
      "lutry has a country code of ch\n",
      "cairns has a country code of au\n",
      "prince rupert has a country code of ca\n",
      "alta floresta has a country code of br\n",
      "kato akhaia has a country code of gr\n",
      "inhambane has a country code of mz\n",
      "brae has a country code of gb\n",
      "osa has a country code of ru\n",
      "rusape has a country code of zw\n",
      "milverton has a country code of ca\n",
      "calama has a country code of cl\n",
      "riyadh has a country code of sa\n",
      "madang has a country code of pg\n",
      "balkanabat has a country code of tm\n",
      "tazmalt has a country code of dz\n",
      "umm kaddadah has a country code of sd\n",
      "rawannawi has a country code of ki\n",
      "sulangan has a country code of ph\n",
      "naifaru has a country code of mv\n",
      "college has a country code of us\n",
      "nelson bay has a country code of au\n",
      "formoso do araguaia has a country code of br\n",
      "balti has a country code of md\n",
      "merano has a country code of it\n",
      "nampula has a country code of mz\n",
      "itamaraca has a country code of br\n",
      "katsuura has a country code of jp\n",
      "guarapari has a country code of br\n"
     ]
    },
    {
     "data": {
      "text/plain": [
       "638"
      ]
     },
     "execution_count": 6,
     "metadata": {},
     "output_type": "execute_result"
    }
   ],
   "source": [
    "# Create a list for holding the cities.\n",
    "cities = []\n",
    "\n",
    "# Identify nearest city for each latitude and longitude combination \n",
    "for coordinate in coordinates:\n",
    "    \n",
    "    # Pull nearest city using lat/combo\n",
    "    nearest_city_data = citipy.nearest_city(coordinate[0], coordinate[1])\n",
    "    city_name = nearest_city_data.city_name\n",
    "    country_code = nearest_city_data.country_code\n",
    "    \n",
    "    # If the city is unique, then add it to cities list\n",
    "    if city_name not in cities:\n",
    "        print(f\"{city_name} has a country code of {country_code}\")\n",
    "        cities.append(city_name)\n",
    "    \n",
    " # Print the city count to confirm sufficient count\n",
    "len(cities)             "
   ]
  },
  {
   "cell_type": "code",
   "execution_count": 7,
   "metadata": {},
   "outputs": [
    {
     "data": {
      "text/plain": [
       "638"
      ]
     },
     "execution_count": 7,
     "metadata": {},
     "output_type": "execute_result"
    }
   ],
   "source": [
    "# Create a list for holding the cities.\n",
    "cities = []\n",
    "# Identify the nearest city for each latitude and longitude combination.\n",
    "for coordinate in coordinates:\n",
    "    city = citipy.nearest_city(coordinate[0], coordinate[1]).city_name\n",
    "\n",
    "    # If the city is unique, then we will add it to the cities list.\n",
    "    if city not in cities:\n",
    "        cities.append(city)\n",
    "# Print the city count to confirm sufficient count.\n",
    "len(cities)"
   ]
  },
  {
   "cell_type": "code",
   "execution_count": 8,
   "metadata": {},
   "outputs": [],
   "source": [
    "# Import the requests library.\n",
    "import requests\n",
    "\n",
    "# Import the weather API key.\n",
    "from config import weather_api_key"
   ]
  },
  {
   "cell_type": "code",
   "execution_count": 9,
   "metadata": {},
   "outputs": [
    {
     "name": "stdout",
     "output_type": "stream",
     "text": [
      "http://api.openweathermap.org/data/2.5/weather?units=Imperial&APPID=dd00c3f6b1bff1e30f23d26dccaf525b\n"
     ]
    }
   ],
   "source": [
    "# Starting URL for Weather Map API Call.\n",
    "weather_api_key = 'dd00c3f6b1bff1e30f23d26dccaf525b'\n",
    "url = \"http://api.openweathermap.org/data/2.5/weather?units=Imperial&APPID=\" + weather_api_key\n",
    "print(url)"
   ]
  },
  {
   "cell_type": "code",
   "execution_count": 10,
   "metadata": {},
   "outputs": [
    {
     "name": "stdout",
     "output_type": "stream",
     "text": [
      "http://api.openweathermap.org/data/2.5/weather?units=Imperial&APPID=dd00c3f6b1bff1e30f23d26dccaf525b&q=Boston\n"
     ]
    }
   ],
   "source": [
    "#create an endpoint URL for a city\n",
    "city_url = url + \"&q=\" +\"Boston\"\n",
    "print(city_url)"
   ]
  },
  {
   "cell_type": "code",
   "execution_count": 11,
   "metadata": {},
   "outputs": [
    {
     "data": {
      "text/plain": [
       "<Response [200]>"
      ]
     },
     "execution_count": 11,
     "metadata": {},
     "output_type": "execute_result"
    }
   ],
   "source": [
    "# Make a 'Get' request for the city weather.\n",
    "city_weather = requests.get(city_url)\n",
    "city_weather"
   ]
  },
  {
   "cell_type": "code",
   "execution_count": 12,
   "metadata": {},
   "outputs": [
    {
     "data": {
      "text/plain": [
       "200"
      ]
     },
     "execution_count": 12,
     "metadata": {},
     "output_type": "execute_result"
    }
   ],
   "source": [
    "city_weather.status_code"
   ]
  },
  {
   "cell_type": "code",
   "execution_count": 13,
   "metadata": {},
   "outputs": [
    {
     "data": {
      "text/plain": [
       "<Response [404]>"
      ]
     },
     "execution_count": 13,
     "metadata": {},
     "output_type": "execute_result"
    }
   ],
   "source": [
    "# Create an endpoint URL for a city.\n",
    "city_url = url + \"&q=\" + \"Bston\"\n",
    "city_weather = requests.get(city_url)\n",
    "city_weather"
   ]
  },
  {
   "cell_type": "code",
   "execution_count": 14,
   "metadata": {},
   "outputs": [
    {
     "data": {
      "text/plain": [
       "<Response [200]>"
      ]
     },
     "execution_count": 14,
     "metadata": {},
     "output_type": "execute_result"
    }
   ],
   "source": [
    "# Create an endpoint URL for a city.\n",
    "city_url = url + \"&q=\" + \"Boston\"\n",
    "city_weather = requests.get(city_url)\n",
    "city_weather"
   ]
  },
  {
   "cell_type": "code",
   "execution_count": 15,
   "metadata": {},
   "outputs": [
    {
     "data": {
      "text/plain": [
       "'{\"coord\":{\"lon\":-71.06,\"lat\":42.36},\"weather\":[{\"id\":802,\"main\":\"Clouds\",\"description\":\"scattered clouds\",\"icon\":\"03n\"}],\"base\":\"stations\",\"main\":{\"temp\":36.73,\"feels_like\":24.85,\"temp_min\":35.01,\"temp_max\":39,\"pressure\":1021,\"humidity\":40},\"visibility\":10000,\"wind\":{\"speed\":11.41,\"deg\":310},\"clouds\":{\"all\":40},\"dt\":1604442833,\"sys\":{\"type\":1,\"id\":3486,\"country\":\"US\",\"sunrise\":1604402436,\"sunset\":1604439296},\"timezone\":-18000,\"id\":4930956,\"name\":\"Boston\",\"cod\":200}'"
      ]
     },
     "execution_count": 15,
     "metadata": {},
     "output_type": "execute_result"
    }
   ],
   "source": [
    "# Get the text of the 'Get' request.\n",
    "city_weather.text"
   ]
  },
  {
   "cell_type": "code",
   "execution_count": 16,
   "metadata": {},
   "outputs": [
    {
     "data": {
      "text/plain": [
       "{'coord': {'lon': -71.06, 'lat': 42.36},\n",
       " 'weather': [{'id': 802,\n",
       "   'main': 'Clouds',\n",
       "   'description': 'scattered clouds',\n",
       "   'icon': '03n'}],\n",
       " 'base': 'stations',\n",
       " 'main': {'temp': 36.73,\n",
       "  'feels_like': 24.85,\n",
       "  'temp_min': 35.01,\n",
       "  'temp_max': 39,\n",
       "  'pressure': 1021,\n",
       "  'humidity': 40},\n",
       " 'visibility': 10000,\n",
       " 'wind': {'speed': 11.41, 'deg': 310},\n",
       " 'clouds': {'all': 40},\n",
       " 'dt': 1604442833,\n",
       " 'sys': {'type': 1,\n",
       "  'id': 3486,\n",
       "  'country': 'US',\n",
       "  'sunrise': 1604402436,\n",
       "  'sunset': 1604439296},\n",
       " 'timezone': -18000,\n",
       " 'id': 4930956,\n",
       " 'name': 'Boston',\n",
       " 'cod': 200}"
      ]
     },
     "execution_count": 16,
     "metadata": {},
     "output_type": "execute_result"
    }
   ],
   "source": [
    "# Get the JSON text of the 'Get' request.\n",
    "city_weather.json()"
   ]
  },
  {
   "cell_type": "code",
   "execution_count": 17,
   "metadata": {},
   "outputs": [
    {
     "name": "stdout",
     "output_type": "stream",
     "text": [
      "City Weather found.\n"
     ]
    }
   ],
   "source": [
    "# Create an endpoint URL for a city.\n",
    "city_url = url + \"&q=\" + \"Boston\"\n",
    "city_weather = requests.get(city_url)\n",
    "if city_weather.status_code == 200:\n",
    "    print(f\"City Weather found.\")\n",
    "else:\n",
    "    print(f\"City weather not found.\")"
   ]
  },
  {
   "cell_type": "code",
   "execution_count": 18,
   "metadata": {},
   "outputs": [
    {
     "name": "stdout",
     "output_type": "stream",
     "text": [
      "City Weather found.\n"
     ]
    }
   ],
   "source": [
    "# Create an endpoint URL for a city.\n",
    "city_url = url + \"&q=\" + \"Bston\"\n",
    "city_weather = requests.get(city_url)\n",
    "if city_weather.json():\n",
    "    print(f\"City Weather found.\")\n",
    "else:\n",
    "    print(f\"City weather not found.\")"
   ]
  },
  {
   "cell_type": "code",
   "execution_count": 19,
   "metadata": {},
   "outputs": [
    {
     "name": "stdout",
     "output_type": "stream",
     "text": [
      "http://api.openweathermap.org/data/2.5/weather?units=Imperial&APPID=dd00c3f6b1bff1e30f23d26dccaf525b&q=Bston\n"
     ]
    }
   ],
   "source": [
    "print(city_url)"
   ]
  },
  {
   "cell_type": "code",
   "execution_count": 20,
   "metadata": {},
   "outputs": [
    {
     "data": {
      "text/plain": [
       "{'coord': {'lon': -71.06, 'lat': 42.36},\n",
       " 'weather': [{'id': 802,\n",
       "   'main': 'Clouds',\n",
       "   'description': 'scattered clouds',\n",
       "   'icon': '03n'}],\n",
       " 'base': 'stations',\n",
       " 'main': {'temp': 36.73,\n",
       "  'feels_like': 24.85,\n",
       "  'temp_min': 35.01,\n",
       "  'temp_max': 39,\n",
       "  'pressure': 1021,\n",
       "  'humidity': 40},\n",
       " 'visibility': 10000,\n",
       " 'wind': {'speed': 11.41, 'deg': 310},\n",
       " 'clouds': {'all': 40},\n",
       " 'dt': 1604442833,\n",
       " 'sys': {'type': 1,\n",
       "  'id': 3486,\n",
       "  'country': 'US',\n",
       "  'sunrise': 1604402436,\n",
       "  'sunset': 1604439296},\n",
       " 'timezone': -18000,\n",
       " 'id': 4930956,\n",
       " 'name': 'Boston',\n",
       " 'cod': 200}"
      ]
     },
     "execution_count": 20,
     "metadata": {},
     "output_type": "execute_result"
    }
   ],
   "source": [
    "# Create an endpoint URL for a city.\n",
    "city_url = url + \"&q=\" + \"Boston\"\n",
    "city_weather = requests.get(city_url)\n",
    "city_weather.json()"
   ]
  },
  {
   "cell_type": "code",
   "execution_count": 21,
   "metadata": {},
   "outputs": [
    {
     "data": {
      "text/plain": [
       "{'type': 1,\n",
       " 'id': 3486,\n",
       " 'country': 'US',\n",
       " 'sunrise': 1604402436,\n",
       " 'sunset': 1604439296}"
      ]
     },
     "execution_count": 21,
     "metadata": {},
     "output_type": "execute_result"
    }
   ],
   "source": [
    "# Get the JSON data.\n",
    "boston_data = city_weather.json()\n",
    "boston_data[\"sys\"]"
   ]
  },
  {
   "cell_type": "code",
   "execution_count": 22,
   "metadata": {},
   "outputs": [
    {
     "data": {
      "text/plain": [
       "'US'"
      ]
     },
     "execution_count": 22,
     "metadata": {},
     "output_type": "execute_result"
    }
   ],
   "source": [
    "boston_data[\"sys\"][\"country\"]"
   ]
  },
  {
   "cell_type": "code",
   "execution_count": 23,
   "metadata": {},
   "outputs": [
    {
     "data": {
      "text/plain": [
       "1604442833"
      ]
     },
     "execution_count": 23,
     "metadata": {},
     "output_type": "execute_result"
    }
   ],
   "source": [
    "boston_data[\"dt\"]"
   ]
  },
  {
   "cell_type": "code",
   "execution_count": 24,
   "metadata": {},
   "outputs": [
    {
     "name": "stdout",
     "output_type": "stream",
     "text": [
      "42.36 -71.06 39 40 40 11.41\n"
     ]
    }
   ],
   "source": [
    "lat = boston_data[\"coord\"][\"lat\"]\n",
    "lng = boston_data[\"coord\"][\"lon\"]\n",
    "max_temp = boston_data[\"main\"][\"temp_max\"]\n",
    "humidity = boston_data[\"main\"][\"humidity\"]\n",
    "clouds = boston_data[\"clouds\"][\"all\"]\n",
    "wind = boston_data[\"wind\"][\"speed\"]\n",
    "print(lat, lng, max_temp, humidity, clouds, wind)\n"
   ]
  },
  {
   "cell_type": "code",
   "execution_count": 25,
   "metadata": {},
   "outputs": [
    {
     "data": {
      "text/plain": [
       "1604442833"
      ]
     },
     "execution_count": 25,
     "metadata": {},
     "output_type": "execute_result"
    }
   ],
   "source": [
    "boston_data[\"dt\"]"
   ]
  },
  {
   "cell_type": "code",
   "execution_count": 26,
   "metadata": {},
   "outputs": [
    {
     "data": {
      "text/plain": [
       "datetime.datetime(2020, 11, 3, 22, 33, 53)"
      ]
     },
     "execution_count": 26,
     "metadata": {},
     "output_type": "execute_result"
    }
   ],
   "source": [
    "# Import the datetime module from the datetime library.\n",
    "from datetime import datetime\n",
    "# Get the date from the JSON file.\n",
    "date = boston_data[\"dt\"]\n",
    "# Convert the UTC date to a date format with year, month, day, hours, minutes, and seconds.\n",
    "datetime.utcfromtimestamp(date)"
   ]
  },
  {
   "cell_type": "code",
   "execution_count": 27,
   "metadata": {},
   "outputs": [
    {
     "data": {
      "text/plain": [
       "'2020-11-03 22:33:53'"
      ]
     },
     "execution_count": 27,
     "metadata": {},
     "output_type": "execute_result"
    }
   ],
   "source": [
    "datetime.utcfromtimestamp(date).strftime('%Y-%m-%d %H:%M:%S')"
   ]
  },
  {
   "cell_type": "code",
   "execution_count": 28,
   "metadata": {},
   "outputs": [],
   "source": [
    "# Import the datetime module from the datetime library.\n",
    "from datetime import datetime"
   ]
  },
  {
   "cell_type": "code",
   "execution_count": 29,
   "metadata": {},
   "outputs": [
    {
     "name": "stdout",
     "output_type": "stream",
     "text": [
      "Beginning Data Retrieval     \n",
      "-----------------------------\n"
     ]
    }
   ],
   "source": [
    "# Create an empty list to hold the weather data.\n",
    "city_data = []\n",
    "# Print the beginning of the logging.\n",
    "print(\"Beginning Data Retrieval     \")\n",
    "print(\"-----------------------------\")\n",
    "\n",
    "# Create counters.\n",
    "record_count = 1\n",
    "set_count = 1"
   ]
  },
  {
   "cell_type": "code",
   "execution_count": 30,
   "metadata": {},
   "outputs": [
    {
     "name": "stdout",
     "output_type": "stream",
     "text": [
      "1\n"
     ]
    }
   ],
   "source": [
    "# Running on ONE SINGLE CITY to make sure everything is working properly\n",
    "\n",
    "city_data = []\n",
    "city = cities[0]\n",
    "city_url = url + \"&q=\" + city.replace(\" \",\"+\")\n",
    "\n",
    "# Run an API request for one city\n",
    "city_weather = requests.get(city_url).json()\n",
    "\n",
    "# Parse out the max temp, humidity, and cloudiness\n",
    "city_lat = city_weather[\"coord\"][\"lat\"]\n",
    "city_lng = city_weather[\"coord\"][\"lon\"]\n",
    "city_max_temp = city_weather[\"main\"][\"temp_max\"]\n",
    "city_humidity = city_weather[\"main\"][\"humidity\"]\n",
    "city_clouds = city_weather[\"clouds\"][\"all\"]\n",
    "city_wind = city_weather[\"wind\"][\"speed\"]\n",
    "city_country = city_weather[\"sys\"][\"country\"]\n",
    "city_weather_description = city_weather[\"weather\"][0][\"description\"]\n",
    "# Append the City information into city_data list\n",
    "city_data.append({\"City\": city.title(), \n",
    "                    \"Lat\": city_lat, \n",
    "                    \"Lng\": city_lng, \n",
    "                    \"Max Temp\": city_max_temp,\n",
    "                    \"Current Description\": city_weather_description,\n",
    "                    \"Humidity\": city_humidity,\n",
    "                    \"Cloudiness\": city_clouds,\n",
    "                    \"Wind Speed\": city_wind,\n",
    "                    \"Country\": city_country})\n",
    "print(len(city_data))"
   ]
  },
  {
   "cell_type": "code",
   "execution_count": 31,
   "metadata": {},
   "outputs": [
    {
     "name": "stdout",
     "output_type": "stream",
     "text": [
      "-----------------------------\n",
      "Data Retrieval Complete      \n",
      "-----------------------------\n"
     ]
    }
   ],
   "source": [
    "# Run an API request for each of the cities.\n",
    "try: \n",
    "    # Parse the JSON and retrieve data.\n",
    "    city_weather = requests.get(city_url).json()\n",
    "    # Parse out the needed data.\n",
    "    city_lat = city_weather[\"coord\"][\"lat\"]\n",
    "    city_lng = city_weather[\"coord\"][\"lon\"]\n",
    "    city_max_temp = city_weather[\"main\"][\"temp_max\"]\n",
    "    city_humidity = city_weather[\"main\"][\"humidity\"]\n",
    "    city_clouds = city_weather[\"clouds\"][\"all\"]\n",
    "    city_wind = city_weather[\"wind\"][\"speed\"]\n",
    "    city_country = city_weather[\"sys\"][\"country\"]\n",
    "    # Convert the date to ISO standard.\n",
    "    city_date = datetime.utcfromtimestamp(city_weather[\"dt\"]).strftime('%Y-%m-%d %H:%M:%S')\n",
    "    # Append the city information into city_data list.\n",
    "    city_data.append({\"City\": city.title(),\n",
    "                      \"Lat\": city_lat,\n",
    "                      \"Lng\": city_lng,\n",
    "                      \"Max Temp\": city_max_temp,\n",
    "                      \"Humidity\": city_humidity,\n",
    "                      \"Cloudiness\": city_clouds,\n",
    "                      \"Wind Speed\": city_wind,\n",
    "                      \"Country\": city_country,\n",
    "                      \"Date\": city_date})\n",
    "\n",
    "# If an error is experienced, skip the city.\n",
    "except:\n",
    "    print(\"City not found. Skipping...\")\n",
    "    pass\n",
    "\n",
    "# Indicate that Data Loading is complete.\n",
    "print(\"-----------------------------\")\n",
    "print(\"Data Retrieval Complete      \")\n",
    "print(\"-----------------------------\")"
   ]
  },
  {
   "cell_type": "code",
   "execution_count": null,
   "metadata": {},
   "outputs": [
    {
     "name": "stdout",
     "output_type": "stream",
     "text": [
      "Processing Record 1 of Set 1 | aklavik\n",
      "Processing Record 2 of Set 1 | hakvik\n",
      "City not found. Skipping...\n",
      "Processing Record 3 of Set 1 | ossora\n",
      "Processing Record 4 of Set 1 | butaritari\n",
      "Processing Record 5 of Set 1 | rovaniemi\n",
      "Processing Record 6 of Set 1 | san rafael\n",
      "Processing Record 7 of Set 1 | puerto ayora\n",
      "Processing Record 8 of Set 1 | half moon bay\n",
      "Processing Record 9 of Set 1 | ushuaia\n",
      "Processing Record 10 of Set 1 | mataura\n",
      "Processing Record 11 of Set 1 | port elizabeth\n",
      "Processing Record 12 of Set 1 | grand-lahou\n",
      "Processing Record 13 of Set 1 | padang\n",
      "Processing Record 14 of Set 1 | taitung\n",
      "Processing Record 15 of Set 1 | liminangcong\n",
      "City not found. Skipping...\n",
      "Processing Record 16 of Set 1 | airai\n",
      "Processing Record 17 of Set 1 | barrow\n",
      "Processing Record 18 of Set 1 | ribeira grande\n",
      "Processing Record 19 of Set 1 | faanui\n",
      "Processing Record 20 of Set 1 | hermanus\n",
      "Processing Record 21 of Set 1 | hohhot\n",
      "Processing Record 22 of Set 1 | bargal\n",
      "City not found. Skipping...\n",
      "Processing Record 23 of Set 1 | bluff\n",
      "Processing Record 24 of Set 1 | sitio novo do tocantins\n",
      "Processing Record 25 of Set 1 | taolanaro\n",
      "City not found. Skipping...\n",
      "Processing Record 26 of Set 1 | yerbogachen\n",
      "Processing Record 27 of Set 1 | tasiilaq\n",
      "Processing Record 28 of Set 1 | tenno\n",
      "Processing Record 29 of Set 1 | kapaa\n",
      "Processing Record 30 of Set 1 | lompoc\n",
      "Processing Record 31 of Set 1 | rikitea\n",
      "Processing Record 32 of Set 1 | port alfred\n",
      "Processing Record 33 of Set 1 | qui nhon\n",
      "Processing Record 34 of Set 1 | tuktoyaktuk\n",
      "Processing Record 35 of Set 1 | kuminskiy\n",
      "Processing Record 36 of Set 1 | jamestown\n",
      "Processing Record 37 of Set 1 | punta arenas\n",
      "Processing Record 38 of Set 1 | chuy\n",
      "Processing Record 39 of Set 1 | bierun\n",
      "Processing Record 40 of Set 1 | hasaki\n",
      "Processing Record 41 of Set 1 | aflu\n",
      "City not found. Skipping...\n",
      "Processing Record 42 of Set 1 | palmerston north\n",
      "Processing Record 43 of Set 1 | bredasdorp\n",
      "Processing Record 44 of Set 1 | castro\n",
      "Processing Record 45 of Set 1 | vitim\n",
      "Processing Record 46 of Set 1 | kaitangata\n",
      "Processing Record 47 of Set 1 | iqaluit\n",
      "Processing Record 48 of Set 1 | nabire\n",
      "Processing Record 49 of Set 1 | fortuna\n",
      "Processing Record 50 of Set 1 | illoqqortoormiut\n",
      "City not found. Skipping...\n",
      "Processing Record 1 of Set 2 | hobart\n",
      "Processing Record 2 of Set 2 | belyy yar\n",
      "Processing Record 3 of Set 2 | jenks\n",
      "Processing Record 4 of Set 2 | upata\n",
      "Processing Record 5 of Set 2 | nome\n",
      "Processing Record 6 of Set 2 | tsihombe\n",
      "City not found. Skipping...\n",
      "Processing Record 7 of Set 2 | halifax\n",
      "Processing Record 8 of Set 2 | kuznechnoye\n",
      "Processing Record 9 of Set 2 | petropavlovsk-kamchatskiy\n",
      "Processing Record 10 of Set 2 | east london\n",
      "Processing Record 11 of Set 2 | upernavik\n",
      "Processing Record 12 of Set 2 | pemangkat\n",
      "Processing Record 13 of Set 2 | busselton\n",
      "Processing Record 14 of Set 2 | mehamn\n",
      "Processing Record 15 of Set 2 | albany\n",
      "Processing Record 16 of Set 2 | barentsburg\n",
      "City not found. Skipping...\n",
      "Processing Record 17 of Set 2 | saint anthony\n",
      "Processing Record 18 of Set 2 | sayanskiy\n",
      "City not found. Skipping...\n",
      "Processing Record 19 of Set 2 | souillac\n",
      "Processing Record 20 of Set 2 | tonj\n",
      "Processing Record 21 of Set 2 | kahului\n",
      "Processing Record 22 of Set 2 | cape town\n",
      "Processing Record 23 of Set 2 | paamiut\n",
      "Processing Record 24 of Set 2 | meulaboh\n",
      "Processing Record 25 of Set 2 | paracuru\n",
      "Processing Record 26 of Set 2 | cicero dantas\n",
      "Processing Record 27 of Set 2 | severo-kurilsk\n",
      "Processing Record 28 of Set 2 | ayan\n",
      "Processing Record 29 of Set 2 | tiksi\n",
      "Processing Record 30 of Set 2 | laguna\n",
      "Processing Record 31 of Set 2 | otradnoye\n",
      "Processing Record 32 of Set 2 | cherskiy\n",
      "Processing Record 33 of Set 2 | xapuri\n",
      "Processing Record 34 of Set 2 | norman wells\n",
      "Processing Record 35 of Set 2 | coihaique\n",
      "Processing Record 36 of Set 2 | vaini\n",
      "Processing Record 37 of Set 2 | hithadhoo\n",
      "Processing Record 38 of Set 2 | nara\n",
      "Processing Record 39 of Set 2 | lahat\n",
      "Processing Record 40 of Set 2 | georgetown\n",
      "Processing Record 41 of Set 2 | takoradi\n",
      "Processing Record 42 of Set 2 | taltal\n",
      "Processing Record 43 of Set 2 | attawapiskat\n",
      "City not found. Skipping...\n",
      "Processing Record 44 of Set 2 | praia da vitoria\n",
      "Processing Record 45 of Set 2 | avarua\n",
      "Processing Record 46 of Set 2 | kavaratti\n",
      "Processing Record 47 of Set 2 | dunedin\n",
      "Processing Record 48 of Set 2 | port moresby\n",
      "Processing Record 49 of Set 2 | provideniya\n",
      "Processing Record 50 of Set 2 | poum\n",
      "Processing Record 1 of Set 3 | bardiyah\n",
      "Processing Record 2 of Set 3 | sao filipe\n",
      "Processing Record 3 of Set 3 | carnarvon\n",
      "Processing Record 4 of Set 3 | thompson\n",
      "Processing Record 5 of Set 3 | shingu\n",
      "Processing Record 6 of Set 3 | wajir\n",
      "Processing Record 7 of Set 3 | hirara\n",
      "Processing Record 8 of Set 3 | synya\n",
      "Processing Record 9 of Set 3 | arraial do cabo\n",
      "Processing Record 10 of Set 3 | esperance\n",
      "Processing Record 11 of Set 3 | bengkulu\n",
      "Processing Record 12 of Set 3 | dikson\n",
      "Processing Record 13 of Set 3 | saint-philippe\n",
      "Processing Record 14 of Set 3 | moosomin\n",
      "Processing Record 15 of Set 3 | ivnya\n",
      "Processing Record 16 of Set 3 | qaanaaq\n",
      "Processing Record 17 of Set 3 | puri\n",
      "Processing Record 18 of Set 3 | port augusta\n",
      "Processing Record 19 of Set 3 | jackson\n",
      "Processing Record 20 of Set 3 | chara\n",
      "Processing Record 21 of Set 3 | lebu\n",
      "Processing Record 22 of Set 3 | darnah\n",
      "Processing Record 23 of Set 3 | yellowknife\n",
      "Processing Record 24 of Set 3 | mys shmidta\n",
      "City not found. Skipping...\n",
      "Processing Record 25 of Set 3 | bulgan\n",
      "Processing Record 26 of Set 3 | grand river south east\n",
      "City not found. Skipping...\n",
      "Processing Record 27 of Set 3 | tuatapere\n",
      "Processing Record 28 of Set 3 | samarai\n",
      "Processing Record 29 of Set 3 | isangel\n",
      "Processing Record 30 of Set 3 | leningradskiy\n",
      "Processing Record 31 of Set 3 | bathsheba\n",
      "Processing Record 32 of Set 3 | chicama\n",
      "Processing Record 33 of Set 3 | komsomolskiy\n",
      "Processing Record 34 of Set 3 | sechelt\n",
      "Processing Record 35 of Set 3 | atuona\n",
      "Processing Record 36 of Set 3 | kodiak\n",
      "Processing Record 37 of Set 3 | savinskiy\n",
      "Processing Record 38 of Set 3 | valer\n",
      "Processing Record 39 of Set 3 | tessalit\n",
      "Processing Record 40 of Set 3 | moussoro\n",
      "Processing Record 41 of Set 3 | flinders\n",
      "Processing Record 42 of Set 3 | sao gabriel da cachoeira\n",
      "Processing Record 43 of Set 3 | oparino\n",
      "Processing Record 44 of Set 3 | hilo\n",
      "Processing Record 45 of Set 3 | mahebourg\n",
      "Processing Record 46 of Set 3 | bethel\n",
      "Processing Record 47 of Set 3 | lumeje\n",
      "Processing Record 48 of Set 3 | belushya guba\n",
      "City not found. Skipping...\n",
      "Processing Record 49 of Set 3 | moorhead\n",
      "Processing Record 50 of Set 3 | sikandra\n",
      "Processing Record 1 of Set 4 | bilibino\n",
      "Processing Record 2 of Set 4 | pangnirtung\n",
      "Processing Record 3 of Set 4 | luderitz\n",
      "Processing Record 4 of Set 4 | kushiro\n",
      "Processing Record 5 of Set 4 | skagastrond\n",
      "City not found. Skipping...\n",
      "Processing Record 6 of Set 4 | hvide sande\n",
      "Processing Record 7 of Set 4 | gardenstown\n",
      "Processing Record 8 of Set 4 | clyde river\n",
      "Processing Record 9 of Set 4 | sentyabrskiy\n",
      "City not found. Skipping...\n",
      "Processing Record 10 of Set 4 | kagadi\n",
      "Processing Record 11 of Set 4 | pauini\n",
      "Processing Record 12 of Set 4 | zhigansk\n",
      "Processing Record 13 of Set 4 | constitucion\n",
      "Processing Record 14 of Set 4 | whitianga\n",
      "Processing Record 15 of Set 4 | guerrero negro\n",
      "Processing Record 16 of Set 4 | raha\n",
      "Processing Record 17 of Set 4 | cidreira\n",
      "Processing Record 18 of Set 4 | jilib\n",
      "Processing Record 19 of Set 4 | rovenki\n",
      "Processing Record 20 of Set 4 | ponnani\n",
      "Processing Record 21 of Set 4 | vao\n",
      "Processing Record 22 of Set 4 | basco\n",
      "Processing Record 23 of Set 4 | upleta\n",
      "Processing Record 24 of Set 4 | vestmannaeyjar\n",
      "Processing Record 25 of Set 4 | srednekolymsk\n",
      "Processing Record 26 of Set 4 | yar-sale\n",
      "Processing Record 27 of Set 4 | zhuhai\n",
      "Processing Record 28 of Set 4 | kamiiso\n",
      "Processing Record 29 of Set 4 | san juan\n",
      "Processing Record 30 of Set 4 | mayo\n",
      "Processing Record 31 of Set 4 | eyl\n",
      "Processing Record 32 of Set 4 | mount isa\n",
      "Processing Record 33 of Set 4 | samusu\n",
      "City not found. Skipping...\n",
      "Processing Record 34 of Set 4 | maksatikha\n",
      "Processing Record 35 of Set 4 | new norfolk\n",
      "Processing Record 36 of Set 4 | orizaba\n",
      "Processing Record 37 of Set 4 | doctor pedro p. pena\n",
      "City not found. Skipping...\n",
      "Processing Record 38 of Set 4 | san cristobal\n"
     ]
    },
    {
     "name": "stdout",
     "output_type": "stream",
     "text": [
      "Processing Record 39 of Set 4 | lamar\n",
      "Processing Record 40 of Set 4 | sitka\n",
      "Processing Record 41 of Set 4 | santa vitoria do palmar\n",
      "Processing Record 42 of Set 4 | ginir\n",
      "Processing Record 43 of Set 4 | whitley bay\n",
      "Processing Record 44 of Set 4 | mar del plata\n",
      "Processing Record 45 of Set 4 | victoria\n",
      "Processing Record 46 of Set 4 | alto araguaia\n",
      "Processing Record 47 of Set 4 | nikolskoye\n",
      "Processing Record 48 of Set 4 | tadine\n",
      "Processing Record 49 of Set 4 | chinhoyi\n",
      "Processing Record 50 of Set 4 | kuhestan\n",
      "City not found. Skipping...\n",
      "Processing Record 1 of Set 5 | acapulco\n",
      "Processing Record 2 of Set 5 | noyabrsk\n",
      "Processing Record 3 of Set 5 | bay roberts\n",
      "Processing Record 4 of Set 5 | kirakira\n",
      "Processing Record 5 of Set 5 | rio cuarto\n",
      "Processing Record 6 of Set 5 | cortez\n",
      "Processing Record 7 of Set 5 | tumannyy\n",
      "City not found. Skipping...\n",
      "Processing Record 8 of Set 5 | santa cruz\n",
      "Processing Record 9 of Set 5 | buala\n",
      "Processing Record 10 of Set 5 | sobolevo\n",
      "Processing Record 11 of Set 5 | los llanos de aridane\n",
      "Processing Record 12 of Set 5 | turukhansk\n",
      "Processing Record 13 of Set 5 | mecca\n",
      "Processing Record 14 of Set 5 | codrington\n",
      "Processing Record 15 of Set 5 | eureka\n",
      "Processing Record 16 of Set 5 | bekasi\n",
      "Processing Record 17 of Set 5 | tura\n",
      "Processing Record 18 of Set 5 | talnakh\n",
      "Processing Record 19 of Set 5 | turayf\n",
      "Processing Record 20 of Set 5 | lagoa\n",
      "Processing Record 21 of Set 5 | lingao\n",
      "Processing Record 22 of Set 5 | leshukonskoye\n",
      "Processing Record 23 of Set 5 | sao lourenco da serra\n",
      "Processing Record 24 of Set 5 | xam nua\n",
      "Processing Record 25 of Set 5 | oswego\n",
      "Processing Record 26 of Set 5 | ponta do sol\n",
      "Processing Record 27 of Set 5 | port macquarie\n",
      "Processing Record 28 of Set 5 | atherton\n",
      "Processing Record 29 of Set 5 | verkhoyansk\n",
      "Processing Record 30 of Set 5 | hamilton\n",
      "Processing Record 31 of Set 5 | buraydah\n",
      "Processing Record 32 of Set 5 | kimbe\n",
      "Processing Record 33 of Set 5 | atambua\n",
      "Processing Record 34 of Set 5 | chapais\n",
      "Processing Record 35 of Set 5 | vitry-le-francois\n",
      "Processing Record 36 of Set 5 | iquique\n",
      "Processing Record 37 of Set 5 | ishigaki\n",
      "Processing Record 38 of Set 5 | swift current\n",
      "Processing Record 39 of Set 5 | porbandar\n",
      "Processing Record 40 of Set 5 | tazovskiy\n",
      "Processing Record 41 of Set 5 | macia\n",
      "Processing Record 42 of Set 5 | tiznit\n",
      "Processing Record 43 of Set 5 | carballo\n",
      "Processing Record 44 of Set 5 | mbengwi\n",
      "Processing Record 45 of Set 5 | manicore\n",
      "Processing Record 46 of Set 5 | garissa\n",
      "Processing Record 47 of Set 5 | warmbad\n",
      "Processing Record 48 of Set 5 | longyearbyen\n",
      "Processing Record 49 of Set 5 | ilulissat\n",
      "Processing Record 50 of Set 5 | khonuu\n",
      "City not found. Skipping...\n",
      "Processing Record 1 of Set 6 | nanortalik\n",
      "Processing Record 2 of Set 6 | halalo\n",
      "City not found. Skipping...\n",
      "Processing Record 3 of Set 6 | san patricio\n",
      "Processing Record 4 of Set 6 | saskylakh\n",
      "Processing Record 5 of Set 6 | lavrentiya\n",
      "Processing Record 6 of Set 6 | alekseyevsk\n",
      "Processing Record 7 of Set 6 | tezu\n",
      "Processing Record 8 of Set 6 | valparaiso\n",
      "Processing Record 9 of Set 6 | kings mountain\n",
      "Processing Record 10 of Set 6 | khilok\n",
      "Processing Record 11 of Set 6 | itupiranga\n",
      "Processing Record 12 of Set 6 | vila franca do campo\n",
      "Processing Record 13 of Set 6 | puerto asis\n",
      "Processing Record 14 of Set 6 | burladingen\n",
      "Processing Record 15 of Set 6 | chokurdakh\n",
      "Processing Record 16 of Set 6 | saint george\n",
      "Processing Record 17 of Set 6 | deputatskiy\n",
      "Processing Record 18 of Set 6 | cururupu\n",
      "Processing Record 19 of Set 6 | geraldton\n",
      "Processing Record 20 of Set 6 | moron\n",
      "Processing Record 21 of Set 6 | saint-augustin\n",
      "Processing Record 22 of Set 6 | baykit\n",
      "Processing Record 23 of Set 6 | sayat\n",
      "Processing Record 24 of Set 6 | maarianhamina\n",
      "Processing Record 25 of Set 6 | fort collins\n",
      "Processing Record 26 of Set 6 | khatanga\n",
      "Processing Record 27 of Set 6 | namibe\n",
      "Processing Record 28 of Set 6 | alofi\n",
      "Processing Record 29 of Set 6 | bilma\n",
      "Processing Record 30 of Set 6 | partyzany\n",
      "Processing Record 31 of Set 6 | umzimvubu\n",
      "City not found. Skipping...\n",
      "Processing Record 32 of Set 6 | port hedland\n",
      "Processing Record 33 of Set 6 | griffith\n",
      "Processing Record 34 of Set 6 | santander\n",
      "Processing Record 35 of Set 6 | panaba\n",
      "Processing Record 36 of Set 6 | okhotsk\n",
      "Processing Record 37 of Set 6 | bereznik\n",
      "Processing Record 38 of Set 6 | villa carlos paz\n",
      "Processing Record 39 of Set 6 | korla\n",
      "Processing Record 40 of Set 6 | sao joao da ponte\n",
      "Processing Record 41 of Set 6 | general jose eduvigis diaz\n",
      "Processing Record 42 of Set 6 | les cayes\n",
      "Processing Record 43 of Set 6 | kavieng\n",
      "Processing Record 44 of Set 6 | grand gaube\n",
      "Processing Record 45 of Set 6 | broome\n",
      "Processing Record 46 of Set 6 | lasa\n",
      "Processing Record 47 of Set 6 | horasan\n",
      "Processing Record 48 of Set 6 | manggar\n",
      "Processing Record 49 of Set 6 | ostrovnoy\n",
      "Processing Record 50 of Set 6 | azul\n",
      "Processing Record 1 of Set 7 | shakawe\n",
      "Processing Record 2 of Set 7 | beringovskiy\n",
      "Processing Record 3 of Set 7 | tambura\n",
      "Processing Record 4 of Set 7 | churapcha\n",
      "Processing Record 5 of Set 7 | marsh harbour\n",
      "Processing Record 6 of Set 7 | seoul\n",
      "Processing Record 7 of Set 7 | zaysan\n",
      "Processing Record 8 of Set 7 | raga\n",
      "Processing Record 9 of Set 7 | atar\n",
      "Processing Record 10 of Set 7 | bahia blanca\n",
      "Processing Record 11 of Set 7 | arman\n",
      "Processing Record 12 of Set 7 | taman\n",
      "Processing Record 13 of Set 7 | yumen\n",
      "Processing Record 14 of Set 7 | inirida\n",
      "Processing Record 15 of Set 7 | mareeba\n",
      "Processing Record 16 of Set 7 | umm lajj\n",
      "Processing Record 17 of Set 7 | general roca\n",
      "Processing Record 18 of Set 7 | hobyo\n",
      "Processing Record 19 of Set 7 | san antonio\n",
      "Processing Record 20 of Set 7 | chagda\n",
      "City not found. Skipping...\n",
      "Processing Record 21 of Set 7 | jalu\n",
      "Processing Record 22 of Set 7 | fukue\n",
      "Processing Record 23 of Set 7 | kaseda\n",
      "Processing Record 24 of Set 7 | nyagan\n",
      "Processing Record 25 of Set 7 | la ronge\n",
      "Processing Record 26 of Set 7 | gizo\n",
      "Processing Record 27 of Set 7 | santa maria\n",
      "Processing Record 28 of Set 7 | santo antonio do ica\n",
      "Processing Record 29 of Set 7 | klaksvik\n",
      "Processing Record 30 of Set 7 | vilyuysk\n",
      "Processing Record 31 of Set 7 | mstera\n",
      "Processing Record 32 of Set 7 | winnemucca\n",
      "Processing Record 33 of Set 7 | meyungs\n",
      "City not found. Skipping...\n",
      "Processing Record 34 of Set 7 | hun\n",
      "Processing Record 35 of Set 7 | bati\n",
      "Processing Record 36 of Set 7 | olafsvik\n",
      "Processing Record 37 of Set 7 | vysokogornyy\n",
      "Processing Record 38 of Set 7 | fairbanks\n",
      "Processing Record 39 of Set 7 | niquelandia\n",
      "Processing Record 40 of Set 7 | pevek\n",
      "Processing Record 41 of Set 7 | namatanai\n",
      "Processing Record 42 of Set 7 | port blair\n",
      "Processing Record 43 of Set 7 | yokkaichi\n",
      "Processing Record 44 of Set 7 | severo-yeniseyskiy\n",
      "Processing Record 45 of Set 7 | yokadouma\n",
      "Processing Record 46 of Set 7 | auki\n",
      "Processing Record 47 of Set 7 | nantucket\n",
      "Processing Record 48 of Set 7 | karakendzha\n",
      "City not found. Skipping...\n",
      "Processing Record 49 of Set 7 | srivardhan\n",
      "Processing Record 50 of Set 7 | longyan\n",
      "Processing Record 1 of Set 8 | sorland\n",
      "Processing Record 2 of Set 8 | taoudenni\n",
      "Processing Record 3 of Set 8 | kikwit\n",
      "Processing Record 4 of Set 8 | narsaq\n",
      "Processing Record 5 of Set 8 | itarema\n",
      "Processing Record 6 of Set 8 | bokspits\n",
      "City not found. Skipping...\n",
      "Processing Record 7 of Set 8 | bonito\n",
      "Processing Record 8 of Set 8 | sinnamary\n",
      "Processing Record 9 of Set 8 | kenai\n",
      "Processing Record 10 of Set 8 | sur\n",
      "Processing Record 11 of Set 8 | denizli\n",
      "Processing Record 12 of Set 8 | asau\n",
      "Processing Record 13 of Set 8 | kadoma\n",
      "Processing Record 14 of Set 8 | goderich\n",
      "Processing Record 15 of Set 8 | ust-omchug\n",
      "Processing Record 16 of Set 8 | sao joao da barra\n",
      "Processing Record 17 of Set 8 | yabrud\n",
      "Processing Record 18 of Set 8 | galiwinku\n",
      "City not found. Skipping...\n",
      "Processing Record 19 of Set 8 | yuancheng\n",
      "Processing Record 20 of Set 8 | nizhneyansk\n",
      "City not found. Skipping...\n",
      "Processing Record 21 of Set 8 | papayal\n",
      "Processing Record 22 of Set 8 | watsa\n",
      "Processing Record 23 of Set 8 | arinos\n",
      "Processing Record 24 of Set 8 | lazurne\n",
      "Processing Record 25 of Set 8 | grand forks\n",
      "Processing Record 26 of Set 8 | yamethin\n",
      "Processing Record 27 of Set 8 | oranjemund\n",
      "Processing Record 28 of Set 8 | adrar\n",
      "Processing Record 29 of Set 8 | yirol\n",
      "City not found. Skipping...\n",
      "Processing Record 30 of Set 8 | husavik\n",
      "Processing Record 31 of Set 8 | danshui\n"
     ]
    },
    {
     "name": "stdout",
     "output_type": "stream",
     "text": [
      "Processing Record 32 of Set 8 | svetlogorsk\n"
     ]
    }
   ],
   "source": [
    "# Loop through all the cities in the list.\n",
    "for i, city in enumerate(cities):\n",
    "\n",
    "    # Group cities in sets of 50 for logging purposes.\n",
    "    if (i % 50 == 0 and i >= 50):\n",
    "        set_count += 1\n",
    "        record_count = 1\n",
    "    # Create endpoint URL with each city.\n",
    "    city_url = url + \"&q=\" + city.replace(\" \",\"+\")\n",
    "\n",
    "    # Log the URL, record, and set numbers and the city.\n",
    "    print(f\"Processing Record {record_count} of Set {set_count} | {city}\")\n",
    "    # Add 1 to the record count.\n",
    "    record_count += 1\n",
    "    \n",
    "    # Run an API request for each of the cities.\n",
    "    try: \n",
    "        # Parse the JSON and retrieve data.\n",
    "        city_weather = requests.get(city_url).json()\n",
    "        # Parse out the needed data.\n",
    "        city_lat = city_weather[\"coord\"][\"lat\"]\n",
    "        city_lng = city_weather[\"coord\"][\"lon\"]\n",
    "        city_max_temp = city_weather[\"main\"][\"temp_max\"]\n",
    "        city_humidity = city_weather[\"main\"][\"humidity\"]\n",
    "        city_clouds = city_weather[\"clouds\"][\"all\"]\n",
    "        city_wind = city_weather[\"wind\"][\"speed\"]\n",
    "        city_country = city_weather[\"sys\"][\"country\"]\n",
    "        # Convert the date to ISO standard.\n",
    "        city_date = datetime.utcfromtimestamp(city_weather[\"dt\"]).strftime('%Y-%m-%d %H:%M:%S')\n",
    "        # Append the city information into city_data list.\n",
    "        \n",
    "        city_data.append({\"City\": city.title(),\n",
    "                          \"Lat\": city_lat,\n",
    "                          \"Lng\": city_lng,\n",
    "                          \"Max Temp\": city_max_temp,\n",
    "                          \"Humidity\": city_humidity,\n",
    "                          \"Cloudiness\": city_clouds,\n",
    "                          \"Wind Speed\": city_wind,\n",
    "                          \"Country\": city_country,\n",
    "                          \"Date\": city_date})\n",
    "\n",
    "    # If an error is experienced, skip the city.\n",
    "    except:\n",
    "        print(\"City not found. Skipping...\")\n",
    "        pass\n",
    "\n",
    "# Indicate that Data Loading is complete.\n",
    "print(\"-----------------------------\")\n",
    "print(\"Data Retrieval Complete      \")\n",
    "print(\"-----------------------------\")    "
   ]
  },
  {
   "cell_type": "code",
   "execution_count": null,
   "metadata": {},
   "outputs": [],
   "source": [
    "city_data"
   ]
  },
  {
   "cell_type": "code",
   "execution_count": null,
   "metadata": {},
   "outputs": [],
   "source": [
    "# Convert the array of dictionaries to a Pandas DataFrame\n",
    "city_data_df = pd.DataFrame(city_data)\n",
    "city_data_df.head(10)"
   ]
  },
  {
   "cell_type": "code",
   "execution_count": null,
   "metadata": {},
   "outputs": [],
   "source": [
    "# Reorder the columns in the order you want them to appear.\n",
    "new_column_order = [\"City\", \"Country\", \"Date\", \"Lat\", \"Lng\", \"Max Temp\", \"Humidity\", \"Cloudiness\", \"Wind Speed\"]\n",
    "\n",
    "# Assign city_data_df the new column order.\n",
    "city_data_df = city_data_df[new_column_order]\n",
    "city_data_df.head(10)"
   ]
  },
  {
   "cell_type": "code",
   "execution_count": null,
   "metadata": {},
   "outputs": [],
   "source": [
    "# Create the output file (CSV).\n",
    "output_data_file = \"weather_data/cities.csv\"\n",
    "\n",
    "# Export the City_Data into a CSV.\n",
    "city_data_df.to_csv(output_data_file, index_label=\"City_ID\")"
   ]
  },
  {
   "cell_type": "code",
   "execution_count": null,
   "metadata": {},
   "outputs": [],
   "source": [
    "city_data_df"
   ]
  },
  {
   "cell_type": "code",
   "execution_count": null,
   "metadata": {},
   "outputs": [],
   "source": [
    "# Extract relevant fields from the DataFrame for plotting.\n",
    "lats = city_data_df[\"Lat\"]\n",
    "max_temps = city_data_df[\"Max Temp\"]\n",
    "humidity = city_data_df[\"Humidity\"]\n",
    "cloudiness = city_data_df[\"Cloudiness\"]\n",
    "wind_speed = city_data_df[\"Wind Speed\"]"
   ]
  },
  {
   "cell_type": "code",
   "execution_count": null,
   "metadata": {},
   "outputs": [],
   "source": [
    "# Import the time module.\n",
    "import time\n",
    "\n",
    "# Get today's date in seconds \n",
    "# time.time() output = time in sec since 1/1/1970 as floating point decimal)\n",
    "# strftime(\"%x\") converts the output to a date\n",
    "today = time.strftime(\"%x\")\n",
    "today"
   ]
  },
  {
   "cell_type": "code",
   "execution_count": null,
   "metadata": {},
   "outputs": [],
   "source": [
    "# Add Matplotlib inline magic command\n",
    "%matplotlib inline\n",
    "\n",
    "# Dependencies and Setup\n",
    "import matplotlib.pyplot as plt\n",
    "import numpy as np\n",
    "import pandas as pd"
   ]
  },
  {
   "cell_type": "code",
   "execution_count": null,
   "metadata": {},
   "outputs": [],
   "source": [
    "# Build the scatter plot for latitude vs. max temperature.\n",
    "plt.scatter(lats,\n",
    "            max_temps,\n",
    "            edgecolor=\"black\", linewidths=1, marker=\"o\",\n",
    "            alpha=0.8, label=\"Cities\")\n",
    "\n",
    "# Incorporate the other graph properties.\n",
    "plt.title(f\"City Latitude vs. Max Temperature \"+ time.strftime(\"%x\"))\n",
    "plt.ylabel(\"Max Temperature (F)\")\n",
    "plt.xlabel(\"Latitude\")\n",
    "plt.grid(True)\n",
    "\n",
    "# Save the figure.\n",
    "plt.savefig(\"weather_data/Fig1.png\")\n",
    "\n",
    "# Show plot.\n",
    "plt.show()"
   ]
  },
  {
   "cell_type": "code",
   "execution_count": null,
   "metadata": {},
   "outputs": [],
   "source": [
    "# Build the scatter plots for latitude vs. humidity.\n",
    "plt.scatter(lats,\n",
    "            humidity,\n",
    "            edgecolor=\"black\", linewidths=1, marker=\"o\",\n",
    "            alpha=0.8, label=\"Cities\")\n",
    "\n",
    "# Incorporate the other graph properties.\n",
    "plt.title(f\"City Latitude vs. Humidity \"+ time.strftime(\"%x\"))\n",
    "plt.ylabel(\"Humidity (%)\")\n",
    "plt.xlabel(\"Latitude\")\n",
    "plt.grid(True)\n",
    "# Save the figure.\n",
    "plt.savefig(\"weather_data/Fig2.png\")\n",
    "# Show plot.\n",
    "plt.show()"
   ]
  },
  {
   "cell_type": "code",
   "execution_count": null,
   "metadata": {},
   "outputs": [],
   "source": [
    "# Build the scatter plots for latitude vs. cloudiness.\n",
    "plt.scatter(lats,\n",
    "            cloudiness,\n",
    "            edgecolor=\"black\", linewidths=1, marker=\"o\",\n",
    "            alpha=0.8, label=\"Cities\")\n",
    "\n",
    "# Incorporate the other graph properties.\n",
    "plt.title(f\"City Latitude vs. Cloudiness (%) \"+ time.strftime(\"%x\"))\n",
    "plt.ylabel(\"Cloudiness (%)\")\n",
    "plt.xlabel(\"Latitude\")\n",
    "plt.grid(True)\n",
    "# Save the figure.\n",
    "plt.savefig(\"weather_data/Fig3.png\")\n",
    "# Show plot.\n",
    "plt.show()"
   ]
  },
  {
   "cell_type": "code",
   "execution_count": null,
   "metadata": {},
   "outputs": [],
   "source": [
    "# Build the scatter plots for latitude vs. wind speed.\n",
    "plt.scatter(lats,\n",
    "            wind_speed,\n",
    "            edgecolor=\"black\", linewidths=1, marker=\"o\",\n",
    "            alpha=0.8, label=\"Cities\")\n",
    "\n",
    "# Incorporate the other graph properties.\n",
    "plt.title(f\"City Latitude vs. Wind Speed \"+ time.strftime(\"%x\"))\n",
    "plt.ylabel(\"Wind Speed (mph)\")\n",
    "plt.xlabel(\"Latitude\")\n",
    "plt.grid(True)\n",
    "# Save the figure.\n",
    "plt.savefig(\"weather_data/Fig4.png\")\n",
    "# Show plot.\n",
    "plt.show()"
   ]
  },
  {
   "cell_type": "code",
   "execution_count": null,
   "metadata": {},
   "outputs": [],
   "source": [
    "# Import linear regression from the SciPy stats module.\n",
    "from scipy.stats import linregress"
   ]
  },
  {
   "cell_type": "code",
   "execution_count": null,
   "metadata": {},
   "outputs": [],
   "source": [
    "# Create an equal number of latitudes and temperatures.\n",
    "lats = [42.5, 43.9, 8.1, 36.8, 79.9, 69.1, 25.7, 15.3, 12.7, 64.5]\n",
    "temps = [80.5, 75.3, 90.9, 90.0, 40.4, 62.3, 85.4, 79.6, 72.5, 72.0]"
   ]
  },
  {
   "cell_type": "code",
   "execution_count": null,
   "metadata": {},
   "outputs": [],
   "source": [
    "# Perform linear regression.\n",
    "(slope, intercept, r_value, p_value, std_err) = linregress(lats, temps)\n",
    "# Get the equation of the line.\n",
    "line_eq = \"y = \" + str(round(slope,2)) + \"x + \" + str(round(intercept,2))\n",
    "print(line_eq)\n",
    "print(f\"The p-value is: {p_value:.3f}\")"
   ]
  },
  {
   "cell_type": "code",
   "execution_count": null,
   "metadata": {},
   "outputs": [],
   "source": [
    "# Calculate the regression line \"y values\" from the slope and intercept.\n",
    "regress_values = [(lat * slope + intercept) for lat in lats]"
   ]
  },
  {
   "cell_type": "code",
   "execution_count": null,
   "metadata": {},
   "outputs": [],
   "source": [
    "# Import Matplotlib.\n",
    "import matplotlib.pyplot as plt\n",
    "# Create a scatter plot of the x and y values.\n",
    "plt.scatter(lats,temps)\n",
    "# Plot the regression line with the x-values and the y coordinates based on the intercept and slope.\n",
    "plt.plot(lats,regress_values,\"r\")\n",
    "# Annotate the text for the line equation and add its coordinates.\n",
    "plt.annotate(line_eq, (10,40), fontsize=15, color=\"red\")\n",
    "plt.xlabel('Latitude')\n",
    "plt.ylabel('Temp')\n",
    "plt.show()"
   ]
  },
  {
   "cell_type": "code",
   "execution_count": null,
   "metadata": {},
   "outputs": [],
   "source": [
    "# Create a function to create perform linear regression on the weather data\n",
    "# and plot a regression line and the equation with the data.\n",
    "def plot_linear_regression(x_values, y_values, title, y_label, text_coordinates):\n",
    "\n",
    "    # Run regression on hemisphere weather data.\n",
    "    (slope, intercept, r_value, p_value, std_err) = linregress(x_values, y_values)\n",
    "\n",
    "    # Calculate the regression line \"y values\" from the slope and intercept.\n",
    "    regress_values = x_values * slope + intercept\n",
    "    # Get the equation of the line.\n",
    "    line_eq = \"y = \" + str(round(slope,2)) + \"x + \" + str(round(intercept,2))\n",
    "    # Create a scatter plot and plot the regression line.\n",
    "    plt.scatter(x_values,y_values)\n",
    "    plt.plot(x_values,regress_values,\"r\")\n",
    "    # Annotate the text for the line equation.\n",
    "    plt.annotate(line_eq, text_coordinates, fontsize=15, color=\"red\")\n",
    "    plt.xlabel('Latitude')\n",
    "    plt.ylabel(y_label)\n",
    "    plt.show()"
   ]
  },
  {
   "cell_type": "code",
   "execution_count": null,
   "metadata": {},
   "outputs": [],
   "source": [
    "index13 = city_data_df.loc[13]\n",
    "index13"
   ]
  },
  {
   "cell_type": "code",
   "execution_count": null,
   "metadata": {},
   "outputs": [],
   "source": [
    "city_data_df[\"Lat\"] >= 0"
   ]
  },
  {
   "cell_type": "code",
   "execution_count": null,
   "metadata": {},
   "outputs": [],
   "source": [
    "city_data_df.loc[(city_data_df[\"Lat\"] >= 0)]\n"
   ]
  },
  {
   "cell_type": "code",
   "execution_count": null,
   "metadata": {},
   "outputs": [],
   "source": [
    "# Create Northern and Southern Hemisphere DataFrames.\n",
    "northern_hemi_df = city_data_df.loc[(city_data_df[\"Lat\"] >= 0)]\n",
    "southern_hemi_df = city_data_df.loc[(city_data_df[\"Lat\"] < 0)]"
   ]
  },
  {
   "cell_type": "code",
   "execution_count": null,
   "metadata": {},
   "outputs": [],
   "source": [
    "# Linear regression on the Northern Hemisphere\n",
    "x_values = northern_hemi_df[\"Lat\"]\n",
    "y_values = northern_hemi_df[\"Max Temp\"]\n",
    "# Call the function.\n",
    "plot_linear_regression(x_values, y_values,\n",
    "                       'Linear Regression on the Northern Hemisphere \\n for Maximum Temperature', 'Max Temp',(10,40))"
   ]
  },
  {
   "cell_type": "code",
   "execution_count": null,
   "metadata": {},
   "outputs": [],
   "source": [
    "# Linear regression on the Southern Hemisphere\n",
    "x_values = southern_hemi_df[\"Lat\"]\n",
    "y_values = southern_hemi_df[\"Max Temp\"]\n",
    "# Call the function.\n",
    "plot_linear_regression(x_values, y_values,\n",
    "                       'Linear Regression on the Southern Hemisphere \\n for Maximum Temperature', 'Max Temp',(-50,90))"
   ]
  },
  {
   "cell_type": "code",
   "execution_count": null,
   "metadata": {},
   "outputs": [],
   "source": [
    "# Linear regression on the Northern Hemisphere\n",
    "x_values = northern_hemi_df[\"Lat\"]\n",
    "y_values = northern_hemi_df[\"Humidity\"]\n",
    "# Call the function.\n",
    "plot_linear_regression(x_values, y_values,\n",
    "                       'Linear Regression on the Northern Hemisphere \\n for % Humidity', '% Humidity',(40,10))\n"
   ]
  },
  {
   "cell_type": "code",
   "execution_count": null,
   "metadata": {},
   "outputs": [],
   "source": [
    "# Linear regression on the Southern Hemisphere\n",
    "x_values = southern_hemi_df[\"Lat\"]\n",
    "y_values = southern_hemi_df[\"Humidity\"]\n",
    "# Call the function.\n",
    "plot_linear_regression(x_values, y_values,\n",
    "                       'Linear Regression on the Southern Hemispher \\n for % Humidity', '% Humidity',(-50,15))\n"
   ]
  },
  {
   "cell_type": "code",
   "execution_count": null,
   "metadata": {},
   "outputs": [],
   "source": [
    "# Linear regression on the Southern Hemisphere\n",
    "x_values = southern_hemi_df[\"Lat\"]\n",
    "y_values = southern_hemi_df[\"Cloudiness\"]\n",
    "# Call the function.\n",
    "plot_linear_regression(x_values, y_values,\n",
    "                       'Linear Regression on the Southern Hemisphere \\n for % Cloudiness', '% Cloudiness',(-50,60))\n"
   ]
  },
  {
   "cell_type": "code",
   "execution_count": null,
   "metadata": {},
   "outputs": [],
   "source": [
    "# Linear regression on the Northern Hemisphere\n",
    "x_values = northern_hemi_df[\"Lat\"]\n",
    "y_values = northern_hemi_df[\"Wind Speed\"]\n",
    "# Call the function.\n",
    "plot_linear_regression(x_values, y_values,\n",
    "                       'Linear Regression on the Northern Hemisphere \\n for Wind Speed', 'Wind Speed',(40,35))"
   ]
  },
  {
   "cell_type": "code",
   "execution_count": null,
   "metadata": {},
   "outputs": [],
   "source": [
    "# Linear regression on the Southern Hemisphere\n",
    "x_values = southern_hemi_df[\"Lat\"]\n",
    "y_values = southern_hemi_df[\"Wind Speed\"]\n",
    "# Call the function.\n",
    "plot_linear_regression(x_values, y_values,\n",
    "                       'Linear Regression on the Southern Hemisphere \\n for Wind Speed', 'Wind Speed',(-50,35))\n"
   ]
  },
  {
   "cell_type": "code",
   "execution_count": null,
   "metadata": {},
   "outputs": [],
   "source": []
  }
 ],
 "metadata": {
  "kernelspec": {
   "display_name": "PythonData",
   "language": "python",
   "name": "pythondata"
  },
  "language_info": {
   "codemirror_mode": {
    "name": "ipython",
    "version": 3
   },
   "file_extension": ".py",
   "mimetype": "text/x-python",
   "name": "python",
   "nbconvert_exporter": "python",
   "pygments_lexer": "ipython3",
   "version": "3.7.7"
  }
 },
 "nbformat": 4,
 "nbformat_minor": 4
}
